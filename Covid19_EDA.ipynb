{
 "cells": [
  {
   "cell_type": "code",
   "execution_count": null,
   "id": "3efe2b29-f48d-4094-b6b0-021f7bf3e705",
   "metadata": {},
   "outputs": [],
   "source": [
    "#Import libraries\n",
    "import pandas as pd\n",
    "import seaborn as sns\n",
    "import matplotlib.pyplot as plt"
   ]
  },
  {
   "cell_type": "code",
   "execution_count": null,
   "id": "34de068d-cea8-42a7-80e0-c3b811fac6c0",
   "metadata": {},
   "outputs": [],
   "source": [
    "df = pd.read_csv(\"covid19.csv\")\n",
    "\n",
    "#Check sample data\n",
    "df.head(10)"
   ]
  },
  {
   "cell_type": "code",
   "execution_count": null,
   "id": "2a1d31e8-16bb-47c8-8a0e-abd807f74b73",
   "metadata": {},
   "outputs": [],
   "source": [
    "df.columns"
   ]
  },
  {
   "cell_type": "code",
   "execution_count": null,
   "id": "3032983e-d4d0-4c4b-867f-04b44006a58b",
   "metadata": {},
   "outputs": [],
   "source": [
    "df.shape"
   ]
  },
  {
   "cell_type": "code",
   "execution_count": null,
   "id": "1c62d9c0-fbe0-4682-98f1-3d354e072dac",
   "metadata": {},
   "outputs": [],
   "source": [
    "#Exploratory Data Analysis\n",
    "\n",
    "df.describe()"
   ]
  },
  {
   "cell_type": "code",
   "execution_count": null,
   "id": "89e648f2-17e8-4b7d-847e-6e5411341722",
   "metadata": {},
   "outputs": [],
   "source": [
    "sns.scatterplot(x=\"cases\", y=\"deaths\", \n",
    "                hue=\"deaths\",size=\"deaths\", data=df)"
   ]
  },
  {
   "cell_type": "code",
   "execution_count": null,
   "id": "57c85b44-4a09-489d-a510-52518f099c8c",
   "metadata": {},
   "outputs": [],
   "source": [
    "#Data based EDA\n",
    "\n",
    "df = pd.read_csv(\"https://raw.githubusercontent.com/nytimes/covid-19-data/master/us-states.csv\")\n",
    "df[\"date\"] = pd.to_datetime(df[\"date\"])\n",
    "df = df.set_index(\"date\")\n",
    "print(f\"Columns: {df.columns}\")\n",
    "df.index"
   ]
  },
  {
   "cell_type": "code",
   "execution_count": null,
   "id": "4345d999-bea8-4a07-8f30-689845f2caac",
   "metadata": {},
   "outputs": [],
   "source": [
    "#Check newly created dataframe with dates as index\n",
    "\n",
    "df.head(10)"
   ]
  },
  {
   "cell_type": "code",
   "execution_count": null,
   "id": "f9432531-d731-44cc-ae7f-96df9a23aec6",
   "metadata": {},
   "outputs": [],
   "source": [
    "#Filter results by date range\n",
    "\n",
    "from datetime import date, timedelta\n",
    "today = date.today()\n",
    "daybefore = today - timedelta(days = 2)\n",
    "print(f\"Today {today}\")\n",
    "print(f\"Two days ago {daybefore}\") "
   ]
  },
  {
   "cell_type": "code",
   "execution_count": null,
   "id": "9d6c597b-06ba-4957-b5ce-01622e053cef",
   "metadata": {},
   "outputs": [],
   "source": [
    "df.loc[daybefore:today].head()"
   ]
  },
  {
   "cell_type": "code",
   "execution_count": null,
   "id": "f98371b3-7f2f-417c-a615-1156183012b6",
   "metadata": {},
   "outputs": [],
   "source": [
    "sns.kdeplot(df.loc[daybefore:today][\"deaths\"], shade=True)"
   ]
  },
  {
   "cell_type": "code",
   "execution_count": null,
   "id": "0caf3afa-cae3-4d33-99e8-cb76652c683a",
   "metadata": {},
   "outputs": [],
   "source": [
    "current_df = df.loc[daybefore:today].sort_values(by=[\"deaths\", \"cases\"], ascending=False)\n",
    "current_df.head(10)"
   ]
  },
  {
   "cell_type": "code",
   "execution_count": null,
   "id": "85daf244-4d3f-4124-bb0d-ccf797fe9fa0",
   "metadata": {},
   "outputs": [],
   "source": [
    "current_df.shape"
   ]
  },
  {
   "cell_type": "code",
   "execution_count": null,
   "id": "44267b98-d480-4116-a12a-68790cfe8161",
   "metadata": {},
   "outputs": [],
   "source": [
    "#State based analysis\n",
    "\n",
    "top_ten_states = list(current_df[\"state\"].head(10).values)\n",
    "top_ten_states"
   ]
  },
  {
   "cell_type": "code",
   "execution_count": null,
   "id": "28f86864-5c7d-4a03-922c-a81ed34e0cf1",
   "metadata": {},
   "outputs": [],
   "source": [
    "top_states_df = df[df['state'].isin(top_ten_states)].drop(columns=\"fips\")"
   ]
  },
  {
   "cell_type": "code",
   "execution_count": null,
   "id": "23dd7aa7-ee2a-484a-b9f3-bff45b8d9ef8",
   "metadata": {},
   "outputs": [],
   "source": [
    "set(top_states_df.state.values)"
   ]
  },
  {
   "cell_type": "code",
   "execution_count": null,
   "id": "6f07afbb-b573-45bd-8049-6745a010c0ab",
   "metadata": {},
   "outputs": [],
   "source": [
    "plt.figure(figsize=(15,5))\n",
    "ax = sns.lmplot(x=\"cases\", y=\"deaths\",\n",
    "                    height=3.5,\n",
    "                    col=\"state\",\n",
    "                    col_wrap=5,\n",
    "                    hue=\"state\", \n",
    "                    palette=\"Set2\",\n",
    "                    data=top_states_df)\n",
    "ax.fig.subplots_adjust(wspace=.2)"
   ]
  },
  {
   "cell_type": "code",
   "execution_count": null,
   "id": "cba7be81-7b2e-4bb4-be01-ac5cec188140",
   "metadata": {},
   "outputs": [],
   "source": [
    "#Interactive plot of top states\n",
    "\n",
    "top_states_march_current_df = top_states_df.loc[\"2020-03-08\":today].sort_values(by=[\"deaths\", \"cases\"], ascending=True)\n",
    "top_states_march_current_df.head()"
   ]
  },
  {
   "cell_type": "code",
   "execution_count": null,
   "id": "ceee29fc-9b5e-4838-9c0f-102e17c28b74",
   "metadata": {},
   "outputs": [],
   "source": [
    "#Sugar intake by states\n",
    "\n",
    "cdc_2013 = pd.read_csv(\"education_sugar_cdc_2003.csv\")\n",
    "cdc_2013.to_csv(\"education_sugar_cdc_2003.csv\", index=False)\n",
    "cdc_2013.set_index(\"State\", inplace=True)\n",
    "for column in cdc_2013.columns:\n",
    "  cdc_2013[column]=cdc_2013[column].str.replace(r\"\\(.*\\)\",\"\")\n",
    "  cdc_2013[column]=pd.to_numeric(cdc_2013[column])\n",
    "  \n",
    "cdc_2013.reset_index(inplace=True)\n",
    "cdc_2013.rename(columns={\"State\": \"state\", \"Employed\": \"employed-sugar-intake-daily\"},inplace=True)\n",
    "cdc_2013.head()"
   ]
  },
  {
   "cell_type": "code",
   "execution_count": null,
   "id": "bfbf751f-6c99-4ef4-b582-460ae5a15e43",
   "metadata": {},
   "outputs": [],
   "source": [
    "#Combine sugar and covid 19 data\n",
    "\n",
    "cdc_employed_df = cdc_2013[[\"employed-sugar-intake-daily\", \"state\"]]\n",
    "sugar_covid_df = df.merge(cdc_employed_df, how=\"inner\", on=\"state\")\n",
    "sugar_covid_df.head()"
   ]
  },
  {
   "cell_type": "code",
   "execution_count": null,
   "id": "2e630091-0478-42fe-979b-39608bb67208",
   "metadata": {},
   "outputs": [],
   "source": []
  }
 ],
 "metadata": {
  "kernelspec": {
   "display_name": "Python 3 (ipykernel)",
   "language": "python",
   "name": "python3"
  },
  "language_info": {
   "codemirror_mode": {
    "name": "ipython",
    "version": 3
   },
   "file_extension": ".py",
   "mimetype": "text/x-python",
   "name": "python",
   "nbconvert_exporter": "python",
   "pygments_lexer": "ipython3",
   "version": "3.11.7"
  }
 },
 "nbformat": 4,
 "nbformat_minor": 5
}
